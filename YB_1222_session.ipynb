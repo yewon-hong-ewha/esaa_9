{
  "cells": [
    {
      "cell_type": "markdown",
      "metadata": {
        "id": "c1FcvJ0YgJin"
      },
      "source": [
        "# **kMeans 알고리즘을 적용하여 확인적 군집분석을 수행하시오.**\n",
        ">변수 설명 ) tot_price : 총구매액, buy_count : 구매횟수,\n",
        "                   visit_count : 매장방문횟수, avg_price : 평균구매액"
      ]
    },
    {
      "cell_type": "code",
      "execution_count": 1,
      "metadata": {
        "id": "e0Bt7MHIgK_P"
      },
      "outputs": [],
      "source": [
        "#필요한 모듈 불러오기\n",
        "import pandas as pd\n",
        "from sklearn.cluster import KMeans\n",
        "import matplotlib.pyplot as plt\n",
        "from sklearn.decomposition import PCA\n",
        "from sklearn.metrics import silhouette_samples, silhouette_score"
      ]
    },
    {
      "cell_type": "markdown",
      "metadata": {
        "id": "CwK2SgWXgTO5"
      },
      "source": [
        "## 1) 데이터 불러오기 및 탐색"
      ]
    },
    {
      "cell_type": "code",
      "execution_count": 16,
      "metadata": {
        "id": "QCwXOdIygPKf"
      },
      "outputs": [
        {
          "name": "stdout",
          "output_type": "stream",
          "text": [
            "<class 'pandas.core.frame.DataFrame'>\n",
            "RangeIndex: 150 entries, 0 to 149\n",
            "Data columns (total 4 columns):\n",
            " #   Column       Non-Null Count  Dtype  \n",
            "---  ------       --------------  -----  \n",
            " 0   tot_price    150 non-null    float64\n",
            " 1   visit_count  150 non-null    float64\n",
            " 2   buy_count    150 non-null    float64\n",
            " 3   avg_price    150 non-null    float64\n",
            "dtypes: float64(4)\n",
            "memory usage: 4.8 KB\n",
            "None\n"
          ]
        }
      ],
      "source": [
        "sales = pd.read_csv(\"./product_sales.csv\")\n",
        "print(sales.info())"
      ]
    },
    {
      "cell_type": "code",
      "execution_count": 17,
      "metadata": {
        "id": "PRs1pZdAgfcb"
      },
      "outputs": [
        {
          "name": "stdout",
          "output_type": "stream",
          "text": [
            "(150, 4)\n",
            "<class 'pandas.core.frame.DataFrame'>\n"
          ]
        }
      ],
      "source": [
        "print(sales.shape)\n",
        "print(type(sales))"
      ]
    },
    {
      "cell_type": "markdown",
      "metadata": {
        "id": "YfG1wuHTgpRG"
      },
      "source": [
        "## 2) KMeans 를 이용하여 3개의 군집으로 군집화"
      ]
    },
    {
      "cell_type": "markdown",
      "metadata": {
        "id": "lImpKmE_homZ"
      },
      "source": [
        "2-1) KMeans 모델을 생성하세요. 군집은 3개로 군집화하세요."
      ]
    },
    {
      "cell_type": "code",
      "execution_count": 18,
      "metadata": {
        "id": "icgsSQ3Zgi_9"
      },
      "outputs": [],
      "source": [
        "#모델 생성\n",
        "from sklearn.cluster import KMeans\n",
        "\n",
        "kmeans = KMeans(n_clusters=2, max_iter=1000, random_state=0)"
      ]
    },
    {
      "cell_type": "markdown",
      "metadata": {
        "id": "2OIP8gnyhxia"
      },
      "source": [
        "2-2) 모델을 훈련하고 예측치 생성하고 이 결과를 pred라는 변수에 저장하세요."
      ]
    },
    {
      "cell_type": "code",
      "execution_count": 19,
      "metadata": {
        "id": "ebGU3AJyhWCn"
      },
      "outputs": [
        {
          "name": "stderr",
          "output_type": "stream",
          "text": [
            "C:\\Users\\홍예원\\AppData\\Roaming\\Python\\Python310\\site-packages\\sklearn\\cluster\\_kmeans.py:1416: FutureWarning: The default value of `n_init` will change from 10 to 'auto' in 1.4. Set the value of `n_init` explicitly to suppress the warning\n",
            "  super()._check_params_vs_input(X, default_n_init=10)\n"
          ]
        }
      ],
      "source": [
        "pred = kmeans.fit_predict(sales)"
      ]
    },
    {
      "cell_type": "markdown",
      "metadata": {
        "id": "Vs2umEnah6MX"
      },
      "source": [
        "2-3) 원형 데이터(scale)에 예측치(변수명:cluster)를 추가하세요."
      ]
    },
    {
      "cell_type": "code",
      "execution_count": 20,
      "metadata": {
        "id": "2qF-jLKahfPe"
      },
      "outputs": [],
      "source": [
        "sales['cluster'] = pred"
      ]
    },
    {
      "cell_type": "markdown",
      "metadata": {
        "id": "_mmO5GpXiWPH"
      },
      "source": [
        "## 3) 군집화 시각화\n",
        ": 전체 데이터를 2차원으로 축소한 뒤 시각화하세요."
      ]
    },
    {
      "cell_type": "markdown",
      "metadata": {
        "id": "LysC2L9duAmP"
      },
      "source": [
        "3-1) cluster 변수를 제외한 sales 데이터를 salesDF라는 이름으로 변수에 저장하세요."
      ]
    },
    {
      "cell_type": "code",
      "execution_count": 21,
      "metadata": {
        "id": "aZ58gQTVuTcr"
      },
      "outputs": [],
      "source": [
        "salesDF = sales.drop('cluster', axis = 1)"
      ]
    },
    {
      "cell_type": "markdown",
      "metadata": {
        "id": "7Qx6EpFuvJMz"
      },
      "source": [
        "3-2) salesDF 데이터를 이용하여 2차원으로 차원축소 한 후 그 결과를 sales에 pca_x, pca_y 이름으로 저장하세요."
      ]
    },
    {
      "cell_type": "code",
      "execution_count": 22,
      "metadata": {
        "id": "HbdaFWKnlVhF"
      },
      "outputs": [
        {
          "data": {
            "text/html": [
              "<div>\n",
              "<style scoped>\n",
              "    .dataframe tbody tr th:only-of-type {\n",
              "        vertical-align: middle;\n",
              "    }\n",
              "\n",
              "    .dataframe tbody tr th {\n",
              "        vertical-align: top;\n",
              "    }\n",
              "\n",
              "    .dataframe thead th {\n",
              "        text-align: right;\n",
              "    }\n",
              "</style>\n",
              "<table border=\"1\" class=\"dataframe\">\n",
              "  <thead>\n",
              "    <tr style=\"text-align: right;\">\n",
              "      <th></th>\n",
              "      <th>tot_price</th>\n",
              "      <th>visit_count</th>\n",
              "      <th>buy_count</th>\n",
              "      <th>avg_price</th>\n",
              "      <th>cluster</th>\n",
              "      <th>pca_x</th>\n",
              "      <th>pca_y</th>\n",
              "    </tr>\n",
              "  </thead>\n",
              "  <tbody>\n",
              "    <tr>\n",
              "      <th>0</th>\n",
              "      <td>5.0</td>\n",
              "      <td>0.2</td>\n",
              "      <td>3.0</td>\n",
              "      <td>1.6</td>\n",
              "      <td>1</td>\n",
              "      <td>-2.516330</td>\n",
              "      <td>-0.074159</td>\n",
              "    </tr>\n",
              "    <tr>\n",
              "      <th>1</th>\n",
              "      <td>5.0</td>\n",
              "      <td>0.4</td>\n",
              "      <td>3.4</td>\n",
              "      <td>1.6</td>\n",
              "      <td>1</td>\n",
              "      <td>-2.466679</td>\n",
              "      <td>0.231335</td>\n",
              "    </tr>\n",
              "    <tr>\n",
              "      <th>2</th>\n",
              "      <td>5.2</td>\n",
              "      <td>0.2</td>\n",
              "      <td>3.5</td>\n",
              "      <td>1.5</td>\n",
              "      <td>1</td>\n",
              "      <td>-2.557365</td>\n",
              "      <td>0.456400</td>\n",
              "    </tr>\n",
              "  </tbody>\n",
              "</table>\n",
              "</div>"
            ],
            "text/plain": [
              "   tot_price  visit_count  buy_count  avg_price  cluster     pca_x     pca_y\n",
              "0        5.0          0.2        3.0        1.6        1 -2.516330 -0.074159\n",
              "1        5.0          0.4        3.4        1.6        1 -2.466679  0.231335\n",
              "2        5.2          0.2        3.5        1.5        1 -2.557365  0.456400"
            ]
          },
          "execution_count": 22,
          "metadata": {},
          "output_type": "execute_result"
        }
      ],
      "source": [
        "#차원 축소 한 후 변형된 값 임의의 변수에 저장\n",
        "from sklearn.decomposition import PCA\n",
        "\n",
        "pca = PCA(n_components=2)\n",
        "pca_transformed = pca.fit_transform(salesDF)\n",
        "\n",
        "\n",
        "#sales에 'pca_x', 'pca_y' 이름으로 열 만들어 저장\n",
        "sales['pca_x'] = pca_transformed[:, 0]\n",
        "sales['pca_y'] = pca_transformed[:, 1]\n",
        "\n",
        "sales.head(3)"
      ]
    },
    {
      "cell_type": "markdown",
      "metadata": {
        "id": "uSA4KaVcjELK"
      },
      "source": [
        "3-3) pca_x를 x축, pca_y를 y축으로 하여 산점도를 그리세요. 색으로 각 점이 군집에 따라 구분되도록 하세요. (단, 각 군집별로 마커 모양 구분하지 않고 오직 색으로만 구분합니다.)"
      ]
    },
    {
      "cell_type": "code",
      "execution_count": 23,
      "metadata": {
        "id": "zi42IlfRjCNP"
      },
      "outputs": [
        {
          "data": {
            "image/png": "[encoded data removed]",
            "text/plain": [
              "<Figure size 640x480 with 1 Axes>"
            ]
          },
          "metadata": {},
          "output_type": "display_data"
        }
      ],
      "source": [
        "# 군집 값이 0, 1, 2인 경우마다 별도의 인덱스로 추출\n",
        "marker0_ind = sales[sales['cluster']==0].index\n",
        "marker1_ind = sales[sales['cluster']==1].index\n",
        "marker2_ind = sales[sales['cluster']==2].index\n",
        "\n",
        "# 군집 값 0, 1, 2에 해당하는 인덱스로 각 군집 레벨의 pca_x, pca_y 값 추출, o, s, ^로 마커 표시\n",
        "plt.scatter(x = sales.loc[marker0_ind, 'pca_x'], y = sales.loc[marker0_ind, 'pca_y'], marker='o')\n",
        "plt.scatter(x = sales.loc[marker1_ind, 'pca_x'], y = sales.loc[marker1_ind, 'pca_y'], marker='s')\n",
        "plt.scatter(x = sales.loc[marker2_ind, 'pca_x'], y = sales.loc[marker2_ind, 'pca_y'], marker='^')\n",
        "\n",
        "plt.xlabel('PCA 1')\n",
        "plt.ylabel('PCA 2')\n",
        "plt.title('3 Clusters Visulization by 2 PCA components')\n",
        "plt.show()"
      ]
    },
    {
      "cell_type": "markdown",
      "metadata": {
        "id": "ACFmY31zw701"
      },
      "source": [
        "## 4) 군집평가: 실루엣 계수 구하기"
      ]
    },
    {
      "cell_type": "code",
      "execution_count": 24,
      "metadata": {
        "id": "aOVy3VRgxxo3"
      },
      "outputs": [],
      "source": [
        "#시각화를 위하여 사용했던 차원 축소 관련 계수 삭제\n",
        "sales=sales.drop(['pca_x','pca_y'], axis=1)\n",
        "\n",
        "#cluster 행을 제외한 순수 데이터 sales_data로 저장\n",
        "sales_data=sales.drop('cluster', axis=1)"
      ]
    },
    {
      "cell_type": "markdown",
      "metadata": {
        "id": "MbRL_ERnxKG4"
      },
      "source": [
        "4-1) sales의 모든 데이터에 실루엣 계수를 구하고 실루엣 계수 칼럼을 추가하세요."
      ]
    },
    {
      "cell_type": "code",
      "execution_count": 26,
      "metadata": {
        "id": "WguqFEIGnevN"
      },
      "outputs": [
        {
          "name": "stdout",
          "output_type": "stream",
          "text": [
            "silhouette_samples() return 값의 shape :  (150,)\n"
          ]
        }
      ],
      "source": [
        "#sales의 모든 데이터에 실루엣 계수 구하기\n",
        "score_samples = silhouette_samples(sales, sales['cluster'])\n",
        "print('silhouette_samples() return 값의 shape : ', score_samples.shape)"
      ]
    },
    {
      "cell_type": "code",
      "execution_count": 28,
      "metadata": {
        "id": "UtKeaL-kxiiR"
      },
      "outputs": [],
      "source": [
        "#sales에 실루엣 계수 칼럼 추가\n",
        "sales['silhouette'] = score_samples"
      ]
    },
    {
      "cell_type": "markdown",
      "metadata": {
        "id": "Unt23NAhyl0W"
      },
      "source": [
        "4-2) 모든 데이터의 평균 실루엣 계수를 구하세요."
      ]
    },
    {
      "cell_type": "code",
      "execution_count": 29,
      "metadata": {
        "id": "J51Ao9TiyjpN"
      },
      "outputs": [
        {
          "name": "stdout",
          "output_type": "stream",
          "text": [
            "Silhouette Analysis Score : 0.682\n"
          ]
        }
      ],
      "source": [
        "#모든 데이터의 평균 실루엣 계수 값을 구하기\n",
        "average_score = silhouette_score(sales, sales['cluster'])\n",
        "print('Silhouette Analysis Score : {0:.3f}'.format(average_score))"
      ]
    },
    {
      "cell_type": "markdown",
      "metadata": {
        "id": "YovPBxuXyxUQ"
      },
      "source": [
        "4-3) 군집별 평균 실루엣 계수를 구하세요."
      ]
    },
    {
      "cell_type": "code",
      "execution_count": 30,
      "metadata": {
        "id": "XW6o-x1YysJd"
      },
      "outputs": [
        {
          "data": {
            "text/plain": [
              "cluster\n",
              "0    0.646920\n",
              "1    0.751069\n",
              "Name: silhouette, dtype: float64"
            ]
          },
          "execution_count": 30,
          "metadata": {},
          "output_type": "execute_result"
        }
      ],
      "source": [
        "#군집별 평균 실루엣 계수 구하기\n",
        "sales.groupby('cluster')['silhouette'].mean()"
      ]
    }
  ],
  "metadata": {
    "colab": {
      "provenance": []
    },
    "kernelspec": {
      "display_name": "Python 3",
      "name": "python3"
    },
    "language_info": {
      "codemirror_mode": {
        "name": "ipython",
        "version": 3
      },
      "file_extension": ".py",
      "mimetype": "text/x-python",
      "name": "python",
      "nbconvert_exporter": "python",
      "pygments_lexer": "ipython3",
      "version": "3.10.4"
    }
  },
  "nbformat": 4,
  "nbformat_minor": 0
}
