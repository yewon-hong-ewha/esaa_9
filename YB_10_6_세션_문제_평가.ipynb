{
  "cells": [
    {
      "cell_type": "code",
      "execution_count": 1,
      "metadata": {
        "id": "4Zqc4O_BfWqZ"
      },
      "outputs": [],
      "source": [
        "# 모듈 및 데이터 로드\n",
        "from sklearn.datasets import load_breast_cancer\n",
        "from sklearn.linear_model import LogisticRegression\n",
        "\n",
        "data = load_breast_cancer()\n",
        "\n",
        "# x, y 데이터 생성\n",
        "X = data.data\n",
        "\n",
        "# 악성을 1, 양성을 0으로\n",
        "y = 1 - data.target\n",
        "\n",
        "# 특징으로 사용할 데이터를 평균으로 구분하는 10개 열로 축소\n",
        "X = X[:, :10]\n",
        "\n",
        "# 로지스틱 회귀 모델 생성\n",
        "model_lor = LogisticRegression(solver = 'lbfgs')\n",
        "model_lor.fit(X,y)\n",
        "y_pred = model_lor.predict(X)"
      ]
    },
    {
      "cell_type": "markdown",
      "metadata": {
        "id": "faoAfc1ZgAcq"
      },
      "source": [
        "* 오차 행렬(혼동 행렬) 생성"
      ]
    },
    {
      "cell_type": "code",
      "execution_count": 5,
      "metadata": {
        "id": "JdML8YM0gBtu"
      },
      "outputs": [
        {
          "data": {
            "text/plain": [
              "array([[337,  20],\n",
              "       [ 30, 182]], dtype=int64)"
            ]
          },
          "execution_count": 5,
          "metadata": {},
          "output_type": "execute_result"
        }
      ],
      "source": [
        "# 종속 변수와 예측 결과로 혼동 행렬 생성\n",
        "from sklearn.metrics import confusion_matrix\n",
        "confusion_matrix(y,y_pred)"
      ]
    },
    {
      "cell_type": "markdown",
      "metadata": {
        "id": "xbcK3rT-gFRk"
      },
      "source": [
        "* 정확도"
      ]
    },
    {
      "cell_type": "code",
      "execution_count": 7,
      "metadata": {
        "id": "NLiXFuYvgI1e"
      },
      "outputs": [
        {
          "data": {
            "text/plain": [
              "0.9121265377855887"
            ]
          },
          "execution_count": 7,
          "metadata": {},
          "output_type": "execute_result"
        }
      ],
      "source": [
        "from sklearn.metrics import accuracy_score\n",
        "accuracy_score(y, y_pred)"
      ]
    },
    {
      "cell_type": "markdown",
      "metadata": {
        "id": "UYnVZS9igNNf"
      },
      "source": [
        "* 정밀도"
      ]
    },
    {
      "cell_type": "code",
      "execution_count": 8,
      "metadata": {
        "id": "j108NueLgMKF"
      },
      "outputs": [
        {
          "data": {
            "text/plain": [
              "0.900990099009901"
            ]
          },
          "execution_count": 8,
          "metadata": {},
          "output_type": "execute_result"
        }
      ],
      "source": [
        "from sklearn.metrics import precision_score\n",
        "\n",
        "precision_score(y, y_pred)"
      ]
    },
    {
      "cell_type": "markdown",
      "metadata": {
        "id": "2-MBquNJZOM4"
      },
      "source": [
        "* 재현율"
      ]
    },
    {
      "cell_type": "code",
      "execution_count": 9,
      "metadata": {
        "id": "uje4ivPvZPwv"
      },
      "outputs": [
        {
          "name": "stdout",
          "output_type": "stream",
          "text": [
            "0.8584905660377359\n"
          ]
        }
      ],
      "source": [
        "from sklearn.metrics import recall_score \n",
        "print(recall_score(y,y_pred))"
      ]
    },
    {
      "cell_type": "markdown",
      "metadata": {
        "id": "Cw1p3yjagUCH"
      },
      "source": [
        "* F1 score"
      ]
    },
    {
      "cell_type": "code",
      "execution_count": 10,
      "metadata": {
        "id": "hPdtYdoDgYgV"
      },
      "outputs": [
        {
          "name": "stdout",
          "output_type": "stream",
          "text": [
            "0.8792270531400966\n"
          ]
        }
      ],
      "source": [
        "from sklearn.metrics import f1_score \n",
        "print(f1_score(y, y_pred))"
      ]
    },
    {
      "cell_type": "markdown",
      "metadata": {
        "id": "fzwIFsKOW5a1"
      },
      "source": [
        "* 예측 확률(pred_proba) : 0으로 예측할 확률이 0.1보다 크면 y_pred2 에 넣는다 가정."
      ]
    },
    {
      "cell_type": "markdown",
      "metadata": {},
      "source": [
        "Sol1"
      ]
    },
    {
      "cell_type": "code",
      "execution_count": 14,
      "metadata": {
        "id": "nw9dxOiPW40l"
      },
      "outputs": [],
      "source": [
        "from sklearn.preprocessing import Binarizer\n",
        "\n",
        "pred_proba = model_lor.predict_proba(X)\n",
        "# predict_proba() 반환값의 두번째 칼럼, 즉 positive 클래스 칼럼 하나만 추출해 Binarizer를 적용\n",
        "pred_proba_1 = pred_proba[:, 1].reshape(-1, 1)\n",
        "# threshold = 0.1\n",
        "binarizer=Binarizer(threshold=0.1)\n",
        "# 0으로 예측할 확률이 0.1보다 크면 y_pred2 에 넣기\n",
        "y_pred2=binarizer.transform(pred_proba_1)"
      ]
    },
    {
      "cell_type": "markdown",
      "metadata": {},
      "source": [
        "Sol2"
      ]
    },
    {
      "cell_type": "code",
      "execution_count": 15,
      "metadata": {},
      "outputs": [],
      "source": [
        "from sklearn.preprocessing import Binarizer\n",
        "binarizer = Binarizer(threshold=0.1)\n",
        "y_pred2 = y_pred[:].reshape(-1,1)\n",
        "binarizer = Binarizer(threshold=0.1).fit(y_pred2)\n",
        "custom_predict=binarizer.transform(y_pred2)"
      ]
    },
    {
      "cell_type": "code",
      "execution_count": 16,
      "metadata": {},
      "outputs": [
        {
          "name": "stdout",
          "output_type": "stream",
          "text": [
            "오차 행렬\n",
            "[[337  20]\n",
            " [ 30 182]]\n",
            "정확도: 0.9121, 정밀도: 0.9010, 재현율: 0.8585\n"
          ]
        }
      ],
      "source": [
        "# y과 y_pred2의 혼동행렬, 정확도, 정밀도, 재현율, f1 score 구하기\n",
        "\n",
        "def get_clf_eval(y, y_pred):\n",
        "  accuracy = accuracy_score(y, y_pred)\n",
        "  precision = precision_score(y, y_pred)\n",
        "  recall = recall_score(y, y_pred)\n",
        "  print('정확도: {0:.4f}, 정밀도: {1:.4f}, 재현율: {2:.4f}'.format(accuracy, precision, recall))\n",
        "\n",
        "get_clf_eval(y, y_pred)"
      ]
    },
    {
      "cell_type": "markdown",
      "metadata": {
        "id": "itgf_OjsjU-R"
      },
      "source": [
        "* ROC 곡선 시각화"
      ]
    },
    {
      "cell_type": "code",
      "execution_count": 29,
      "metadata": {
        "id": "DW75xBokjXKy"
      },
      "outputs": [
        {
          "name": "stdout",
          "output_type": "stream",
          "text": [
            "오차 행렬\n",
            "[[337  20]\n",
            " [ 30 182]]\n",
            "정확도: 0.9121, 정밀도: 0.9010, 재현율: 0.8585\n",
            "샘플 추출을 위한 임곗값 배열의 index 10개 : [ 1  6 11 16 21 26 31 36 41 46 51 56 61 66 71]\n",
            "샘플용 10개의 임곗값 : [1.   0.81 0.78 0.69 0.62 0.56 0.45 0.38 0.31 0.27 0.2  0.13 0.09 0.06\n",
            " 0.  ]\n",
            "샘플 임곗값별 FPR : [0.    0.006 0.014 0.022 0.039 0.048 0.062 0.073 0.104 0.115 0.14  0.204\n",
            " 0.272 0.333 1.   ]\n",
            "샘플 임곗값별 TPR : [0.005 0.717 0.741 0.802 0.811 0.835 0.877 0.91  0.925 0.943 0.953 0.967\n",
            " 0.976 0.991 1.   ]\n"
          ]
        }
      ],
      "source": [
        "from sklearn.metrics import roc_curve\n",
        "import numpy as np\n",
        "\n",
        "lr_clf = LogisticRegression()\n",
        "\n",
        "lr_clf.fit(X, y)\n",
        "get_clf_eval(y, y_pred)\n",
        "\n",
        "\n",
        "pred_proba_class1 = lr_clf.predict_proba(X)[:, 1]\n",
        "fprs, tprs, thresholds = roc_curve(y, pred_proba_class1)\n",
        "\n",
        "thr_index = np.arange(1, thresholds.shape[0], 5)\n",
        "print('샘플 추출을 위한 임곗값 배열의 index 10개 :', thr_index)\n",
        "print('샘플용 10개의 임곗값 :', np.round(thresholds[thr_index], 2))\n",
        "\n",
        "\n",
        "print('샘플 임곗값별 FPR :', np.round(fprs[thr_index], 3))\n",
        "print('샘플 임곗값별 TPR :', np.round(tprs[thr_index], 3))"
      ]
    },
    {
      "cell_type": "code",
      "execution_count": 30,
      "metadata": {},
      "outputs": [
        {
          "name": "stdout",
          "output_type": "stream",
          "text": [
            "샘플 추출을 위한 임곗값 배열의 index 10개: [ 1  6 11 16 21 26 31 36 41 46 51 56 61 66 71]\n",
            "샘플용 10개의 임곗값:  [1.   0.81 0.78 0.69 0.62 0.56 0.45 0.38 0.31 0.27 0.2  0.13 0.09 0.06\n",
            " 0.  ]\n",
            "샘플 임곗값별 FPR: [0.    0.006 0.014 0.022 0.039 0.048 0.062 0.073 0.104 0.115 0.14  0.204\n",
            " 0.272 0.333 1.   ]\n",
            "샘플 임곗값별 TPR: [0.005 0.717 0.741 0.802 0.811 0.835 0.877 0.91  0.925 0.943 0.953 0.967\n",
            " 0.976 0.991 1.   ]\n"
          ]
        }
      ],
      "source": [
        "from sklearn.metrics import roc_curve\n",
        "import numpy as np\n",
        "\n",
        "pred_proba_class1 = model_lor.predict_proba(X)[:,1]\n",
        "fprs,tprs, thresholds=roc_curve(y, pred_proba_class1)\n",
        "\n",
        "thr_index = np.arange(1, thresholds.shape[0],5)\n",
        "print('샘플 추출을 위한 임곗값 배열의 index 10개:', thr_index)\n",
        "print('샘플용 10개의 임곗값: ', np.round(thresholds[thr_index],2))\n",
        "print('샘플 임곗값별 FPR:', np.round(fprs[thr_index],3))\n",
        "print('샘플 임곗값별 TPR:', np.round(tprs[thr_index],3))"
      ]
    },
    {
      "cell_type": "code",
      "execution_count": 28,
      "metadata": {
        "id": "CSJ69SGJVh7m"
      },
      "outputs": [
        {
          "data": {
            "image/png": "[encoded data removed]",
            "text/plain": [
              "<Figure size 640x480 with 1 Axes>"
            ]
          },
          "metadata": {},
          "output_type": "display_data"
        }
      ],
      "source": [
        "import matplotlib.pyplot as plt\n",
        "\n",
        "def roc_curve_plot(y, pred_proba_c1):\n",
        "\n",
        "  # 임곗값에 따른 FPR, TPR 값을 반환받음\n",
        "  fprs, tprs, thresholds = roc_curve(y, pred_proba_c1)\n",
        "\n",
        "  # ROC 곡선을 그래프 곡선으로 그림\n",
        "  plt.plot(fprs, tprs, label='ROC')\n",
        "  \n",
        "  # 가운데 대각선 직선을 그림\n",
        "  plt.plot([0, 1], [0, 1], 'k--', label='Random')\n",
        "\n",
        "  # FPR X축의 Scale을 0.1 단위로 변경. X, Y축 명 설정 등\n",
        "  start, end = plt.xlim()\n",
        "  plt.xticks(np.round(np.arange(start, end, 0.1), 2))\n",
        "  plt.xlim(0, 1); plt.ylim(0, 1)\n",
        "  plt.xlabel('FPR(1-Sensitivity)'); plt.ylabel('TPR(Recall)')\n",
        "  plt.legend()\n",
        "\n",
        "roc_curve_plot(y, pred_proba[:, 1])"
      ]
    },
    {
      "cell_type": "markdown",
      "metadata": {
        "id": "fL4as0YsWYD7"
      },
      "source": [
        "* ROC AUC 값"
      ]
    },
    {
      "cell_type": "code",
      "execution_count": 31,
      "metadata": {},
      "outputs": [
        {
          "name": "stdout",
          "output_type": "stream",
          "text": [
            "ROC AUC score: 0.9012\n"
          ]
        }
      ],
      "source": [
        "from sklearn.metrics import roc_auc_score\n",
        "\n",
        "print('ROC AUC score: {0:.4f}'.format(roc_auc_score(y, y_pred)))"
      ]
    }
  ],
  "metadata": {
    "colab": {
      "provenance": []
    },
    "kernelspec": {
      "display_name": "Python 3",
      "name": "python3"
    },
    "language_info": {
      "name": "python"
    }
  },
  "nbformat": 4,
  "nbformat_minor": 0
}
