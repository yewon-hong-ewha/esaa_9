{
  "cells": [
    {
      "cell_type": "markdown",
      "id": "bf79c78b",
      "metadata": {
        "id": "bf79c78b"
      },
      "source": [
        "# Numpy exercises\n",
        "\n",
        "This is a collection of exercises that have been collected in the numpy mailing list, on stack overflow\n",
        "and in the numpy documentation. The goal of this collection is to offer a quick reference for both old\n",
        "and new users but also to provide a set of exercises for those who teach.\n",
        "\n",
        "\n",
        "If you find an error or think you've a better way to solve some of them, feel\n",
        "free to open an issue at <https://github.com/rougier/numpy-100>."
      ]
    },
    {
      "cell_type": "markdown",
      "id": "8536e059",
      "metadata": {
        "id": "8536e059"
      },
      "source": [
        "File automatically generated. See the documentation to update questions/answers/hints programmatically."
      ]
    },
    {
      "cell_type": "markdown",
      "id": "017db353",
      "metadata": {
        "id": "017db353"
      },
      "source": [
        "#### 1. Import the numpy package under the name `np` (★☆☆)"
      ]
    },
    {
      "cell_type": "code",
      "execution_count": 2,
      "id": "68182a76",
      "metadata": {
        "id": "68182a76"
      },
      "outputs": [],
      "source": [
        "import numpy as np"
      ]
    },
    {
      "cell_type": "markdown",
      "id": "46950f4f",
      "metadata": {
        "id": "46950f4f"
      },
      "source": [
        "#### 2. Print the numpy version and the configuration (★☆☆)"
      ]
    },
    {
      "cell_type": "code",
      "execution_count": 2,
      "id": "2a9f5838",
      "metadata": {
        "colab": {
          "base_uri": "https://localhost:8080/"
        },
        "id": "2a9f5838",
        "outputId": "ee719b5e-2c15-44e7-d305-89ee280732f5"
      },
      "outputs": [
        {
          "name": "stdout",
          "output_type": "stream",
          "text": [
            "1.23.5\n",
            "openblas64__info:\n",
            "    libraries = ['openblas64_', 'openblas64_']\n",
            "    library_dirs = ['/usr/local/lib']\n",
            "    language = c\n",
            "    define_macros = [('HAVE_CBLAS', None), ('BLAS_SYMBOL_SUFFIX', '64_'), ('HAVE_BLAS_ILP64', None)]\n",
            "    runtime_library_dirs = ['/usr/local/lib']\n",
            "blas_ilp64_opt_info:\n",
            "    libraries = ['openblas64_', 'openblas64_']\n",
            "    library_dirs = ['/usr/local/lib']\n",
            "    language = c\n",
            "    define_macros = [('HAVE_CBLAS', None), ('BLAS_SYMBOL_SUFFIX', '64_'), ('HAVE_BLAS_ILP64', None)]\n",
            "    runtime_library_dirs = ['/usr/local/lib']\n",
            "openblas64__lapack_info:\n",
            "    libraries = ['openblas64_', 'openblas64_']\n",
            "    library_dirs = ['/usr/local/lib']\n",
            "    language = c\n",
            "    define_macros = [('HAVE_CBLAS', None), ('BLAS_SYMBOL_SUFFIX', '64_'), ('HAVE_BLAS_ILP64', None), ('HAVE_LAPACKE', None)]\n",
            "    runtime_library_dirs = ['/usr/local/lib']\n",
            "lapack_ilp64_opt_info:\n",
            "    libraries = ['openblas64_', 'openblas64_']\n",
            "    library_dirs = ['/usr/local/lib']\n",
            "    language = c\n",
            "    define_macros = [('HAVE_CBLAS', None), ('BLAS_SYMBOL_SUFFIX', '64_'), ('HAVE_BLAS_ILP64', None), ('HAVE_LAPACKE', None)]\n",
            "    runtime_library_dirs = ['/usr/local/lib']\n",
            "Supported SIMD extensions in this NumPy install:\n",
            "    baseline = SSE,SSE2,SSE3\n",
            "    found = SSSE3,SSE41,POPCNT,SSE42,AVX,F16C,FMA3,AVX2\n",
            "    not found = AVX512F,AVX512CD,AVX512_KNL,AVX512_KNM,AVX512_SKX,AVX512_CLX,AVX512_CNL,AVX512_ICL\n",
            "None\n"
          ]
        }
      ],
      "source": [
        "print(np.__version__)\n",
        "print(np.show_config())"
      ]
    },
    {
      "cell_type": "markdown",
      "id": "e3c20b3d",
      "metadata": {
        "id": "e3c20b3d"
      },
      "source": [
        "#### 3. Create a null vector of size 10 (★☆☆)"
      ]
    },
    {
      "cell_type": "code",
      "execution_count": 4,
      "id": "8a758bcf",
      "metadata": {
        "colab": {
          "base_uri": "https://localhost:8080/"
        },
        "id": "8a758bcf",
        "outputId": "5ee05448-c246-47f6-dbe0-007656233b40"
      },
      "outputs": [
        {
          "data": {
            "text/plain": [
              "array([0., 0., 0., 0., 0., 0., 0., 0., 0., 0.])"
            ]
          },
          "execution_count": 4,
          "metadata": {},
          "output_type": "execute_result"
        }
      ],
      "source": [
        "a=np.zeros(10)\n",
        "a"
      ]
    },
    {
      "cell_type": "markdown",
      "id": "b15a879f",
      "metadata": {
        "id": "b15a879f"
      },
      "source": [
        "#### 4. How to find the memory size of any array (★☆☆)"
      ]
    },
    {
      "cell_type": "code",
      "execution_count": 30,
      "id": "1cc3cbc5",
      "metadata": {
        "colab": {
          "base_uri": "https://localhost:8080/"
        },
        "id": "1cc3cbc5",
        "outputId": "8fb27e27-e2b4-4cf0-994a-e3712dd0c6de"
      },
      "outputs": [
        {
          "name": "stdout",
          "output_type": "stream",
          "text": [
            "100\n",
            "8\n",
            "800 bytes\n"
          ]
        }
      ],
      "source": [
        "b=np.zeros((10,10))\n",
        "print(b.size)\n",
        "print(b.itemsize)\n",
        "print(b.size*b.itemsize,\"bytes\")"
      ]
    },
    {
      "cell_type": "markdown",
      "id": "0b16cd77",
      "metadata": {
        "id": "0b16cd77"
      },
      "source": [
        "#### 5. Create a null vector of size 10 but the fifth value which is 1 (★☆☆)"
      ]
    },
    {
      "cell_type": "code",
      "execution_count": 31,
      "id": "4d9b5975",
      "metadata": {
        "colab": {
          "base_uri": "https://localhost:8080/"
        },
        "id": "4d9b5975",
        "outputId": "8b63d3f2-eeaf-49cd-c3c0-8aafa4c94c2a"
      },
      "outputs": [
        {
          "name": "stdout",
          "output_type": "stream",
          "text": [
            "[0. 0. 0. 0. 1. 0. 0. 0. 0. 0.]\n"
          ]
        }
      ],
      "source": [
        "null = np.zeros(10)\n",
        "null[4] = 1\n",
        "print(null)"
      ]
    },
    {
      "cell_type": "code",
      "execution_count": null,
      "id": "SHLVPFVyUjcY",
      "metadata": {
        "id": "SHLVPFVyUjcY"
      },
      "outputs": [],
      "source": []
    },
    {
      "cell_type": "markdown",
      "id": "782d4c77",
      "metadata": {
        "id": "782d4c77"
      },
      "source": [
        "#### 6. Create a vector with values ranging from 10 to 49 (★☆☆)"
      ]
    },
    {
      "cell_type": "code",
      "execution_count": 32,
      "id": "5dbe1a08",
      "metadata": {
        "colab": {
          "base_uri": "https://localhost:8080/"
        },
        "id": "5dbe1a08",
        "outputId": "b7e3d860-3b74-4383-d4dd-eb082dac39b4"
      },
      "outputs": [
        {
          "data": {
            "text/plain": [
              "array([10, 11, 12, 13, 14, 15, 16, 17, 18, 19, 20, 21, 22, 23, 24, 25, 26,\n",
              "       27, 28, 29, 30, 31, 32, 33, 34, 35, 36, 37, 38, 39, 40, 41, 42, 43,\n",
              "       44, 45, 46, 47, 48, 49])"
            ]
          },
          "execution_count": 32,
          "metadata": {},
          "output_type": "execute_result"
        }
      ],
      "source": [
        "a= np.arange(start=10,stop=50)\n",
        "a"
      ]
    },
    {
      "cell_type": "code",
      "execution_count": null,
      "id": "hwW21GL5M4TJ",
      "metadata": {
        "id": "hwW21GL5M4TJ"
      },
      "outputs": [],
      "source": []
    },
    {
      "cell_type": "markdown",
      "id": "48d48f01",
      "metadata": {
        "id": "48d48f01"
      },
      "source": [
        "#### 7. Reverse a vector (first element becomes last) (★☆☆)"
      ]
    },
    {
      "cell_type": "code",
      "execution_count": 33,
      "id": "3ed233e7",
      "metadata": {
        "colab": {
          "base_uri": "https://localhost:8080/"
        },
        "id": "3ed233e7",
        "outputId": "fdbcf228-e7a8-4394-8d5c-d60a5714356c"
      },
      "outputs": [
        {
          "name": "stdout",
          "output_type": "stream",
          "text": [
            "[5, 4, 3, 2, 1]\n"
          ]
        }
      ],
      "source": [
        "array1 = [1, 2, 3, 4, 5]\n",
        "array2 = array1[::-1]\n",
        "print(array2)"
      ]
    },
    {
      "cell_type": "markdown",
      "id": "4fa39382",
      "metadata": {
        "id": "4fa39382"
      },
      "source": [
        "#### 8. Create a 3x3 matrix with values ranging from 0 to 8 (★☆☆)"
      ]
    },
    {
      "cell_type": "code",
      "execution_count": 7,
      "id": "c97757ec",
      "metadata": {
        "colab": {
          "base_uri": "https://localhost:8080/"
        },
        "id": "c97757ec",
        "outputId": "0a5ac8f8-7889-4083-e324-dd18616cc8ff"
      },
      "outputs": [
        {
          "data": {
            "text/plain": [
              "array([[0, 1, 2],\n",
              "       [3, 4, 5],\n",
              "       [6, 7, 8]])"
            ]
          },
          "execution_count": 7,
          "metadata": {},
          "output_type": "execute_result"
        }
      ],
      "source": [
        "x=np.arange(9)\n",
        "x=x.reshape(3,3)\n",
        "x"
      ]
    },
    {
      "cell_type": "markdown",
      "id": "da64551a",
      "metadata": {
        "id": "da64551a"
      },
      "source": [
        "#### 9. Find indices of non-zero elements from [1,2,0,0,4,0] (★☆☆)"
      ]
    },
    {
      "cell_type": "code",
      "execution_count": 34,
      "id": "327f7adb",
      "metadata": {
        "colab": {
          "base_uri": "https://localhost:8080/"
        },
        "id": "327f7adb",
        "outputId": "a94828ba-9171-40cb-bbe4-a9179e4f44d3"
      },
      "outputs": [
        {
          "name": "stdout",
          "output_type": "stream",
          "text": [
            "(array([0, 1, 4]),)\n"
          ]
        }
      ],
      "source": [
        "nonzero = np.nonzero([1,2,0,0,4,0])\n",
        "print(nonzero)"
      ]
    },
    {
      "cell_type": "markdown",
      "id": "f89d9c9e",
      "metadata": {
        "id": "f89d9c9e"
      },
      "source": [
        "#### 10. Create a 3x3 identity matrix (★☆☆)\n",
        "Hint : identity & eye, try to use 'help' to learn how to use two functions of numpy"
      ]
    },
    {
      "cell_type": "code",
      "execution_count": 35,
      "id": "ba625832",
      "metadata": {
        "colab": {
          "base_uri": "https://localhost:8080/"
        },
        "id": "ba625832",
        "outputId": "e32741d5-6d16-440f-97d1-7c5cb26816e8"
      },
      "outputs": [
        {
          "data": {
            "text/plain": [
              "array([[1., 0., 0.],\n",
              "       [0., 1., 0.],\n",
              "       [0., 0., 1.]])"
            ]
          },
          "execution_count": 35,
          "metadata": {},
          "output_type": "execute_result"
        }
      ],
      "source": [
        "a= np.identity(3)\n",
        "a"
      ]
    },
    {
      "cell_type": "code",
      "execution_count": 36,
      "id": "JyN_buR6Wj8A",
      "metadata": {
        "colab": {
          "base_uri": "https://localhost:8080/"
        },
        "id": "JyN_buR6Wj8A",
        "outputId": "c069378a-222e-49f1-cd46-8999ba19b9ea"
      },
      "outputs": [
        {
          "data": {
            "text/plain": [
              "array([[1., 0., 0.],\n",
              "       [0., 1., 0.],\n",
              "       [0., 0., 1.]])"
            ]
          },
          "execution_count": 36,
          "metadata": {},
          "output_type": "execute_result"
        }
      ],
      "source": [
        "b=np.eye(3)\n",
        "b"
      ]
    },
    {
      "cell_type": "markdown",
      "id": "7e44c6fa",
      "metadata": {
        "id": "7e44c6fa"
      },
      "source": [
        "#### 11. Create a 3x3x3 array with random values (★☆☆)\n",
        "Hint : numpy.random.random"
      ]
    },
    {
      "cell_type": "code",
      "execution_count": 38,
      "id": "1cb3dddf",
      "metadata": {
        "colab": {
          "base_uri": "https://localhost:8080/"
        },
        "id": "1cb3dddf",
        "outputId": "96520e2f-8afe-4c8b-c628-9f89b7179821"
      },
      "outputs": [
        {
          "data": {
            "text/plain": [
              "array([[[0.7484262 , 0.41230281, 0.66137445],\n",
              "        [0.00931666, 0.20355841, 0.72798025],\n",
              "        [0.01576351, 0.76747798, 0.54533191]],\n",
              "\n",
              "       [[0.36153495, 0.86759377, 0.80560244],\n",
              "        [0.46539773, 0.55036507, 0.63436503],\n",
              "        [0.98409443, 0.87698259, 0.75048834]],\n",
              "\n",
              "       [[0.96084315, 0.97948025, 0.24673098],\n",
              "        [0.97258206, 0.58711896, 0.38208319],\n",
              "        [0.5994934 , 0.59631441, 0.74837369]]])"
            ]
          },
          "execution_count": 38,
          "metadata": {},
          "output_type": "execute_result"
        }
      ],
      "source": [
        "a=np.random.random((3,3,3))\n",
        "a"
      ]
    },
    {
      "cell_type": "markdown",
      "id": "13c5928c",
      "metadata": {
        "id": "13c5928c"
      },
      "source": [
        "#### 12. Create a 10x10 array with random values and find the **min**imum and **max**imum values (★☆☆)"
      ]
    },
    {
      "cell_type": "code",
      "execution_count": 11,
      "id": "911c9b93",
      "metadata": {
        "colab": {
          "base_uri": "https://localhost:8080/"
        },
        "id": "911c9b93",
        "outputId": "03bac8c0-e812-4fb0-d86b-97ad48da6628"
      },
      "outputs": [
        {
          "name": "stdout",
          "output_type": "stream",
          "text": [
            "[[0.22366241 0.76289794 0.08271976 0.64030222 0.30026758 0.86879492\n",
            "  0.32365967 0.29649816 0.06757985 0.30663812]\n",
            " [0.41598571 0.8136609  0.11811282 0.4558935  0.38356825 0.76692116\n",
            "  0.73442805 0.19684478 0.92752043 0.35531686]\n",
            " [0.91656248 0.0855408  0.92673298 0.44769049 0.64383152 0.54428615\n",
            "  0.44332032 0.30955922 0.3174699  0.99885479]\n",
            " [0.51428093 0.03437201 0.99216079 0.8537271  0.26121892 0.56939617\n",
            "  0.61536142 0.24336736 0.55516508 0.17470929]\n",
            " [0.47089071 0.09915503 0.03807128 0.37626995 0.8170573  0.85368661\n",
            "  0.86925536 0.35409145 0.13865934 0.66939726]\n",
            " [0.47890948 0.62783962 0.76192494 0.17703861 0.4362456  0.09805643\n",
            "  0.89709358 0.25410761 0.6787143  0.34169374]\n",
            " [0.63698723 0.06409732 0.02715944 0.67046278 0.12542634 0.10073041\n",
            "  0.56024953 0.99641153 0.30882293 0.9598185 ]\n",
            " [0.75816863 0.51670674 0.00241938 0.01974056 0.44856227 0.06693489\n",
            "  0.67550604 0.89900651 0.956296   0.84617716]\n",
            " [0.88689988 0.53985218 0.252183   0.60118478 0.38355506 0.03436917\n",
            "  0.09859928 0.05232042 0.98250562 0.40194923]\n",
            " [0.01086895 0.0365646  0.87880181 0.49310028 0.10662992 0.87185136\n",
            "  0.90248231 0.26329565 0.59568644 0.43123572]]\n",
            "0.0024193759853607943 0.9988547920829695\n"
          ]
        }
      ],
      "source": [
        "x=np.random.random((10,10))\n",
        "print(x)\n",
        "print(x.min(), x.max())"
      ]
    },
    {
      "cell_type": "markdown",
      "id": "3fa2e461",
      "metadata": {
        "id": "3fa2e461"
      },
      "source": [
        "#### 13. Create a random vector of size 30 and find the **mean** value (★☆☆)"
      ]
    },
    {
      "cell_type": "code",
      "execution_count": 39,
      "id": "323eb38a",
      "metadata": {
        "colab": {
          "base_uri": "https://localhost:8080/"
        },
        "id": "323eb38a",
        "outputId": "6f79d72b-d40a-4626-ebb2-0624de6c3465"
      },
      "outputs": [
        {
          "name": "stdout",
          "output_type": "stream",
          "text": [
            "0.5204151833011339\n"
          ]
        }
      ],
      "source": [
        "array = np.random.random(30)\n",
        "print(array.mean())"
      ]
    },
    {
      "cell_type": "markdown",
      "id": "73f7a549",
      "metadata": {
        "id": "73f7a549"
      },
      "source": [
        "#### 14. Create a 2d array with 1 on the border and 0 inside (★☆☆)"
      ]
    },
    {
      "cell_type": "code",
      "execution_count": 40,
      "id": "e3a6807d",
      "metadata": {
        "colab": {
          "base_uri": "https://localhost:8080/"
        },
        "id": "e3a6807d",
        "outputId": "f0f1569f-b86e-4db5-b257-4cedebeb67aa"
      },
      "outputs": [
        {
          "name": "stdout",
          "output_type": "stream",
          "text": [
            "[[1. 1. 1. 1. 1.]\n",
            " [1. 0. 0. 0. 1.]\n",
            " [1. 0. 0. 0. 1.]\n",
            " [1. 0. 0. 0. 1.]\n",
            " [1. 1. 1. 1. 1.]]\n"
          ]
        }
      ],
      "source": [
        "x= np.ones([5,5])\n",
        "x[1:-1,1:-1]=0\n",
        "print(x)"
      ]
    },
    {
      "cell_type": "markdown",
      "id": "d6ad1a9f",
      "metadata": {
        "id": "d6ad1a9f"
      },
      "source": [
        "#### 15. What is the result of the following expression? (★☆☆)\n",
        "```python\n",
        "0 * np.nan\n",
        "np.nan == np.nan\n",
        "np.inf > np.nan\n",
        "np.nan - np.nan\n",
        "np.nan in set([np.nan])\n",
        "0.3 == 3 * 0.1\n",
        "```"
      ]
    },
    {
      "cell_type": "code",
      "execution_count": 41,
      "id": "ee7ff0f3",
      "metadata": {
        "colab": {
          "base_uri": "https://localhost:8080/"
        },
        "id": "ee7ff0f3",
        "outputId": "589d3afc-4117-49cb-a0cc-bd18f328326c"
      },
      "outputs": [
        {
          "data": {
            "text/plain": [
              "False"
            ]
          },
          "execution_count": 41,
          "metadata": {},
          "output_type": "execute_result"
        }
      ],
      "source": [
        "0 * np.nan\n",
        "np.nan == np.nan\n",
        "np.inf > np.nan\n",
        "np.nan - np.nan\n",
        "np.nan in set([np.nan])\n",
        "0.3 == 3 * 0.1"
      ]
    },
    {
      "cell_type": "markdown",
      "id": "e3a7ba7f",
      "metadata": {
        "id": "e3a7ba7f"
      },
      "source": [
        "#### 16. Create a 5x5 matrix with values 1,2,3,4 just below the **diag**onal (★☆☆)"
      ]
    },
    {
      "cell_type": "code",
      "execution_count": 5,
      "id": "01d8e257",
      "metadata": {
        "colab": {
          "base_uri": "https://localhost:8080/"
        },
        "id": "01d8e257",
        "outputId": "eac905ec-667f-4474-c180-108f7af94202"
      },
      "outputs": [
        {
          "data": {
            "text/plain": [
              "array([[0, 0, 0, 0],\n",
              "       [1, 0, 0, 0],\n",
              "       [0, 2, 0, 0],\n",
              "       [0, 0, 3, 0]])"
            ]
          },
          "execution_count": 5,
          "metadata": {},
          "output_type": "execute_result"
        }
      ],
      "source": [
        "x=np.diag(1+np.arange(3),k=-1) # k는 대각선 위 아래를 뜻함. 따라서 k=-1을 해야 대각선 밑에 1,2,3,4 표현 가능\n",
        "x"
      ]
    },
    {
      "cell_type": "markdown",
      "id": "6d17ab5d",
      "metadata": {
        "id": "6d17ab5d"
      },
      "source": [
        "#### 17. Create a 8x8 matrix and fill it with a checkerboard pattern (★☆☆)"
      ]
    },
    {
      "cell_type": "code",
      "execution_count": 42,
      "id": "841373cd",
      "metadata": {
        "colab": {
          "base_uri": "https://localhost:8080/"
        },
        "id": "841373cd",
        "outputId": "553ad55c-9494-48fb-9f4f-fef0511c4d26"
      },
      "outputs": [
        {
          "name": "stdout",
          "output_type": "stream",
          "text": [
            "[[0 1 0 1 0 1 0 1]\n",
            " [1 0 1 0 1 0 1 0]\n",
            " [0 1 0 1 0 1 0 1]\n",
            " [1 0 1 0 1 0 1 0]\n",
            " [0 1 0 1 0 1 0 1]\n",
            " [1 0 1 0 1 0 1 0]\n",
            " [0 1 0 1 0 1 0 1]\n",
            " [1 0 1 0 1 0 1 0]]\n"
          ]
        }
      ],
      "source": [
        "array = np.zeros(64)\n",
        "array = array.astype('int32')\n",
        "array = array.reshape((8,8))\n",
        "array[1::2, ::2] = 1 # 1번 행부터 끝까지, 2행씩 띄워서 출력, 모든 열 2열씩 띄워서 출력\n",
        "array[::2, 1::2] = 1 # 모든 행 2행씩 띄워서 출력, 1번 열부터 끝까지 2열 씩 띄워서 출력\n",
        "print(array)"
      ]
    },
    {
      "cell_type": "markdown",
      "id": "8837119b",
      "metadata": {
        "id": "8837119b"
      },
      "source": [
        "#### 18. Consider a (6,7,8) shape array, what is the index (x,y,z) of the 100th element? (★☆☆)\n",
        "Hint : use 'numpy.unravel_index(value, (x, y, z))"
      ]
    },
    {
      "cell_type": "code",
      "execution_count": 43,
      "id": "2c0d16f1",
      "metadata": {
        "colab": {
          "base_uri": "https://localhost:8080/"
        },
        "id": "2c0d16f1",
        "outputId": "ab2d3ad4-2aae-4b16-b49a-e462a24519c6"
      },
      "outputs": [
        {
          "name": "stdout",
          "output_type": "stream",
          "text": [
            "(1, 5, 3)\n"
          ]
        }
      ],
      "source": [
        "print(np.unravel_index(99,(6,7,8)))"
      ]
    },
    {
      "cell_type": "markdown",
      "id": "391791e0",
      "metadata": {
        "id": "391791e0"
      },
      "source": [
        "#### 19. Normalize a 5x5 random matrix (★☆☆)\n",
        "Hint : $Z = \\frac{X - \\overline{X}}{S}$"
      ]
    },
    {
      "cell_type": "code",
      "execution_count": 44,
      "id": "f6533d39",
      "metadata": {
        "colab": {
          "base_uri": "https://localhost:8080/"
        },
        "id": "f6533d39",
        "outputId": "72e1c784-33dc-43ff-fc5e-fbac779d8a11"
      },
      "outputs": [
        {
          "name": "stdout",
          "output_type": "stream",
          "text": [
            "[[ 0.69700803  0.37767361 -1.56451441  0.14016711 -1.46921999]\n",
            " [-0.19822261  0.25112523 -0.48084224  1.32009582  0.53373347]\n",
            " [ 1.1765061   1.52928387 -0.49627627 -1.70771937 -0.87380241]\n",
            " [-0.18584104 -1.25786597  0.87587634  1.198205    0.50206578]\n",
            " [ 0.6663299  -2.0251729  -0.23068543  0.21197763  1.01011474]]\n"
          ]
        }
      ],
      "source": [
        "Z = np.random.random((5,5))\n",
        "Z = (Z - np.mean(Z))/ (np.std(Z))\n",
        "print(Z)"
      ]
    },
    {
      "cell_type": "markdown",
      "id": "1e74d39e",
      "metadata": {
        "id": "1e74d39e"
      },
      "source": [
        "#### 20. Create a custom dtype that describes a color as four unsigned bytes (RGBA) (★☆☆)\n",
        "Hint : modify the code below\n",
        "```python\n",
        "numpy.dtype([(value, numpy.ubyte), … , (value, numpy.ubyte)])\n",
        "```"
      ]
    },
    {
      "cell_type": "code",
      "execution_count": 27,
      "id": "3f639d33",
      "metadata": {
        "colab": {
          "base_uri": "https://localhost:8080/"
        },
        "id": "3f639d33",
        "outputId": "320020fd-8957-4a84-8959-962bae3be856"
      },
      "outputs": [
        {
          "data": {
            "text/plain": [
              "dtype([('R', 'u1'), ('G', 'u1'), ('B', 'u1'), ('A', 'u1')])"
            ]
          },
          "execution_count": 27,
          "metadata": {},
          "output_type": "execute_result"
        }
      ],
      "source": [
        "RGBA = np.dtype([(\"R\", np.ubyte),\n",
        "                 (\"G\", np.ubyte),\n",
        "                 (\"B\", np.ubyte),\n",
        "                 (\"A\", np.ubyte)])\n",
        "RGBA"
      ]
    },
    {
      "cell_type": "markdown",
      "id": "78250c14",
      "metadata": {
        "id": "78250c14"
      },
      "source": [
        "#### 21. Multiply a 5x3 matrix by a 3x2 matrix (real matrix product) (★☆☆)"
      ]
    },
    {
      "cell_type": "code",
      "execution_count": 45,
      "id": "9fe729cb",
      "metadata": {
        "colab": {
          "base_uri": "https://localhost:8080/"
        },
        "id": "9fe729cb",
        "outputId": "438a65be-59b1-470c-de42-141432d05069"
      },
      "outputs": [
        {
          "name": "stdout",
          "output_type": "stream",
          "text": [
            "[[1.3825903  1.10972718]\n",
            " [1.40631888 0.85146723]\n",
            " [1.56906849 1.14376324]\n",
            " [0.54771945 0.3776532 ]\n",
            " [0.77610273 0.31295448]]\n"
          ]
        }
      ],
      "source": [
        "A = np.random.rand(5,3)\n",
        "B = np.random.rand(3,2)\n",
        "result = np.matmul(A,B)\n",
        "print(result)"
      ]
    },
    {
      "cell_type": "markdown",
      "id": "51898680",
      "metadata": {
        "id": "51898680"
      },
      "source": [
        "#### 22. Given a 1D array, negate all elements which are between 3 and 8, in place. (★☆☆)"
      ]
    },
    {
      "cell_type": "code",
      "execution_count": 46,
      "id": "51c90f2d",
      "metadata": {
        "colab": {
          "base_uri": "https://localhost:8080/"
        },
        "id": "51c90f2d",
        "outputId": "a89f17d8-5524-4da8-fed2-a6bc8b6de2d0"
      },
      "outputs": [
        {
          "name": "stdout",
          "output_type": "stream",
          "text": [
            "[4 5 6 7]\n"
          ]
        }
      ],
      "source": [
        "array1d= np.arange(1,10)\n",
        "a= array1d[3<array1d]\n",
        "b= a[a<8]\n",
        "print(b)"
      ]
    },
    {
      "cell_type": "markdown",
      "id": "89e78048",
      "metadata": {
        "id": "89e78048"
      },
      "source": [
        "#### 23. What is the output of the following script? (★☆☆)\n",
        "```python\n",
        "# Author: Jake VanderPlas\n",
        "\n",
        "print(sum(range(5),-1))\n",
        "from numpy import *\n",
        "print(sum(range(5),-1))\n",
        "```"
      ]
    },
    {
      "cell_type": "code",
      "execution_count": 1,
      "id": "b62e9d1c",
      "metadata": {
        "colab": {
          "base_uri": "https://localhost:8080/"
        },
        "id": "b62e9d1c",
        "outputId": "95d22901-cb83-4da1-bb00-3dad10bac957"
      },
      "outputs": [
        {
          "name": "stdout",
          "output_type": "stream",
          "text": [
            "9\n",
            "10\n"
          ]
        }
      ],
      "source": [
        "print(sum(range(5),-1))\n",
        "from numpy import *\n",
        "print(sum(range(5),-1)) # 결과가 달라진 이유가 의문."
      ]
    },
    {
      "cell_type": "markdown",
      "id": "ebd10810",
      "metadata": {
        "id": "ebd10810"
      },
      "source": [
        "#### 24. Consider an integer vector Z, which of these expressions are legal? (★☆☆)\n",
        "```python\n",
        "Z**Z\n",
        "2 << Z >> 2\n",
        "Z <- Z\n",
        "1j*Z\n",
        "Z/1/1\n",
        "Z<Z>Z\n",
        "```"
      ]
    },
    {
      "cell_type": "markdown",
      "id": "6ada209f",
      "metadata": {
        "id": "6ada209f"
      },
      "source": [
        "Z<Z>Z is legal"
      ]
    },
    {
      "cell_type": "code",
      "execution_count": 7,
      "id": "zK5v4z-faakA",
      "metadata": {
        "colab": {
          "base_uri": "https://localhost:8080/"
        },
        "id": "zK5v4z-faakA",
        "outputId": "2679f2de-5fb8-4bb1-d300-32b4be73ebbb"
      },
      "outputs": [
        {
          "data": {
            "text/plain": [
              "False"
            ]
          },
          "execution_count": 7,
          "metadata": {},
          "output_type": "execute_result"
        }
      ],
      "source": [
        "Z=[1,2,3]\n",
        "Z<Z>Z"
      ]
    },
    {
      "cell_type": "markdown",
      "id": "c0e940f8",
      "metadata": {
        "id": "c0e940f8"
      },
      "source": [
        "#### 25. What are the result of the following expressions? (★☆☆)\n",
        "```python\n",
        "np.array(0) / np.array(0)\n",
        "np.array(0) // np.array(0)\n",
        "np.array([np.nan]).astype(int).astype(float)\n",
        "```"
      ]
    },
    {
      "cell_type": "code",
      "execution_count": 12,
      "id": "820dc7a5",
      "metadata": {
        "colab": {
          "base_uri": "https://localhost:8080/"
        },
        "id": "820dc7a5",
        "outputId": "4ae72912-ffec-4fd8-ab40-ecc8a9f13353"
      },
      "outputs": [
        {
          "name": "stderr",
          "output_type": "stream",
          "text": [
            "<ipython-input-12-cd809174da5d>:1: RuntimeWarning: invalid value encountered in divide\n",
            "  np.array(0) / np.array(0)\n",
            "<ipython-input-12-cd809174da5d>:2: RuntimeWarning: divide by zero encountered in floor_divide\n",
            "  np.array(0) // np.array(0)\n"
          ]
        },
        {
          "data": {
            "text/plain": [
              "array([-9.22337204e+18])"
            ]
          },
          "execution_count": 12,
          "metadata": {},
          "output_type": "execute_result"
        }
      ],
      "source": [
        "np.array(0) / np.array(0)\n",
        "np.array(0) // np.array(0)\n",
        "np.array([np.nan]).astype(int).astype(float)"
      ]
    },
    {
      "cell_type": "markdown",
      "id": "f1ae2c2d",
      "metadata": {
        "id": "f1ae2c2d"
      },
      "source": [
        "#### 26. How to find common values between two arrays? (★☆☆)\n",
        "```python\n",
        "Z1 = np.random.randint(0,10,10)\n",
        "Z2 = np.random.randint(0,10,10)\n",
        "```\n",
        "Hint : use `numpy.random.randint(start, end, size)`"
      ]
    },
    {
      "cell_type": "code",
      "execution_count": 18,
      "id": "6801c73d",
      "metadata": {
        "colab": {
          "base_uri": "https://localhost:8080/"
        },
        "id": "6801c73d",
        "outputId": "23092300-c0e6-4be7-ba5e-71c5b8220673"
      },
      "outputs": [
        {
          "name": "stdout",
          "output_type": "stream",
          "text": [
            "[1 4 7 8]\n"
          ]
        }
      ],
      "source": [
        "Z1 = np.random.randint(0,10,10)\n",
        "Z2 = np.random.randint(0,10,10)\n",
        "z3= np.intersect1d(Z1,Z2)\n",
        "print(z3)"
      ]
    },
    {
      "cell_type": "markdown",
      "id": "37bc0973",
      "metadata": {
        "id": "37bc0973"
      },
      "source": [
        "#### 27. Is the following expressions true? (★☆☆)\n",
        "```python\n",
        "np.sqrt(-1) == np.emath.sqrt(-1)\n",
        "```"
      ]
    },
    {
      "cell_type": "code",
      "execution_count": 19,
      "id": "c70cbabe",
      "metadata": {
        "colab": {
          "base_uri": "https://localhost:8080/"
        },
        "id": "c70cbabe",
        "outputId": "65e6cdcc-a687-4344-ec1b-52734da358da"
      },
      "outputs": [
        {
          "name": "stderr",
          "output_type": "stream",
          "text": [
            "<ipython-input-19-16339fbc685e>:1: RuntimeWarning: invalid value encountered in sqrt\n",
            "  np.sqrt(-1) == np.emath.sqrt(-1)\n"
          ]
        },
        {
          "data": {
            "text/plain": [
              "False"
            ]
          },
          "execution_count": 19,
          "metadata": {},
          "output_type": "execute_result"
        }
      ],
      "source": [
        "np.sqrt(-1) == np.emath.sqrt(-1)"
      ]
    },
    {
      "cell_type": "markdown",
      "id": "uFZqYO0BxrKi",
      "metadata": {
        "id": "uFZqYO0BxrKi"
      },
      "source": [
        "False.\n",
        "\n",
        "```np.lib.scimath.sqrt(-1)```\n",
        "\n",
        "1j"
      ]
    },
    {
      "cell_type": "markdown",
      "id": "42f8b2f9",
      "metadata": {
        "id": "42f8b2f9"
      },
      "source": [
        "#### 28. How to get all the dates corresponding to the month of July 2016? (★★☆)\n",
        "Hint : modify the code below\n",
        "```python\n",
        "Z = np.arange('start', 'end', dtype='datetime64[D]')\n",
        "```"
      ]
    },
    {
      "cell_type": "code",
      "execution_count": 25,
      "id": "3kkl01x3x0NF",
      "metadata": {
        "colab": {
          "base_uri": "https://localhost:8080/"
        },
        "id": "3kkl01x3x0NF",
        "outputId": "2de06a35-0b7c-4e61-b02b-cad52ac1d7ea"
      },
      "outputs": [
        {
          "data": {
            "text/plain": [
              "array(['2016-07-01', '2016-07-02', '2016-07-03', '2016-07-04',\n",
              "       '2016-07-05', '2016-07-06', '2016-07-07', '2016-07-08',\n",
              "       '2016-07-09', '2016-07-10', '2016-07-11', '2016-07-12',\n",
              "       '2016-07-13', '2016-07-14', '2016-07-15', '2016-07-16',\n",
              "       '2016-07-17', '2016-07-18', '2016-07-19', '2016-07-20',\n",
              "       '2016-07-21', '2016-07-22', '2016-07-23', '2016-07-24',\n",
              "       '2016-07-25', '2016-07-26', '2016-07-27', '2016-07-28',\n",
              "       '2016-07-29', '2016-07-30', '2016-07-31'], dtype='datetime64[D]')"
            ]
          },
          "execution_count": 25,
          "metadata": {},
          "output_type": "execute_result"
        }
      ],
      "source": [
        "Z = np.arange('2016-07','2016-08',\n",
        "              dtype='datetime64[D]')\n",
        "Z"
      ]
    },
    {
      "cell_type": "markdown",
      "id": "252c43e2",
      "metadata": {
        "id": "252c43e2"
      },
      "source": [
        "#### 29. How to compute ((A+B)*(-A/2)) in place (without copy)? (★★☆)\n",
        "Hint : use `numpy.add`, `numpy.divide`,`numpy.negative`, `numpy.multiply` and parameter `out` of the funtions"
      ]
    },
    {
      "cell_type": "code",
      "execution_count": 21,
      "id": "f06ff615",
      "metadata": {
        "colab": {
          "base_uri": "https://localhost:8080/"
        },
        "id": "f06ff615",
        "outputId": "c2571791-7765-42fe-ab54-6916a3144411"
      },
      "outputs": [
        {
          "data": {
            "text/plain": [
              "array([-1.5, -1.5, -1.5])"
            ]
          },
          "execution_count": 21,
          "metadata": {},
          "output_type": "execute_result"
        }
      ],
      "source": [
        "A = np.ones(3)*1\n",
        "B = np.ones(3)*2\n",
        "((A+B)*(-A/2))"
      ]
    },
    {
      "cell_type": "code",
      "execution_count": 20,
      "id": "lUnL00QSVAeU",
      "metadata": {
        "colab": {
          "base_uri": "https://localhost:8080/"
        },
        "id": "lUnL00QSVAeU",
        "outputId": "d894f55e-2500-41e8-8fe2-cc21e12ecaea"
      },
      "outputs": [
        {
          "data": {
            "text/plain": [
              "array([-1.5, -1.5, -1.5])"
            ]
          },
          "execution_count": 20,
          "metadata": {},
          "output_type": "execute_result"
        }
      ],
      "source": [
        "A = np.ones(3)*1\n",
        "B = np.ones(3)*2\n",
        "Answer = np.ones(3)\n",
        "np.add(A,B,out=B)\n",
        "np.divide(A,2,out=A)\n",
        "np.negative(A,out=A)\n",
        "np.multiply(A,B,out=Answer)\n",
        "# (1+2)*(-0.5) = -1.5\n",
        "Answer"
      ]
    },
    {
      "cell_type": "markdown",
      "id": "486df8ea",
      "metadata": {
        "id": "486df8ea"
      },
      "source": [
        "#### 30. Extract the integer part of a random array of positive numbers using 2 different methods (★★☆)\n",
        "Hint : `%`, `//`"
      ]
    },
    {
      "cell_type": "code",
      "execution_count": 30,
      "id": "34b4fa08",
      "metadata": {
        "colab": {
          "base_uri": "https://localhost:8080/"
        },
        "id": "34b4fa08",
        "outputId": "aea24b7d-0e19-4864-81ae-d4a798cff48a"
      },
      "outputs": [
        {
          "data": {
            "text/plain": [
              "array([8., 6., 5., 1., 5., 9., 9., 0., 2., 0.])"
            ]
          },
          "execution_count": 30,
          "metadata": {},
          "output_type": "execute_result"
        }
      ],
      "source": [
        "A=np.random.random(10)*10//1\n",
        "A"
      ]
    },
    {
      "cell_type": "code",
      "execution_count": 31,
      "id": "x3g6IC5ddeG_",
      "metadata": {
        "colab": {
          "base_uri": "https://localhost:8080/"
        },
        "id": "x3g6IC5ddeG_",
        "outputId": "9aa792b2-7cfc-4fef-b2a9-570d4b155c10"
      },
      "outputs": [
        {
          "data": {
            "text/plain": [
              "array([3., 5., 1., 4., 4., 2., 7., 4., 9., 0.])"
            ]
          },
          "execution_count": 31,
          "metadata": {},
          "output_type": "execute_result"
        }
      ],
      "source": [
        "B = np.random.random(10)*10\n",
        "B = B - B%1\n",
        "B"
      ]
    },
    {
      "cell_type": "markdown",
      "id": "649e89f9",
      "metadata": {
        "id": "649e89f9"
      },
      "source": [
        "#### 31. Create a 5x5 matrix with row values ranging from 0 to 4 (★★☆)"
      ]
    },
    {
      "cell_type": "code",
      "execution_count": 34,
      "id": "mqbNVnBUe-eX",
      "metadata": {
        "colab": {
          "base_uri": "https://localhost:8080/"
        },
        "id": "mqbNVnBUe-eX",
        "outputId": "8df7aa46-3bdc-404e-d773-256b9a4d5b4b"
      },
      "outputs": [
        {
          "name": "stdout",
          "output_type": "stream",
          "text": [
            "[[2 1 2 3 0]\n",
            " [1 3 1 1 3]\n",
            " [0 2 0 1 1]\n",
            " [2 2 1 1 1]\n",
            " [0 1 3 1 0]]\n"
          ]
        }
      ],
      "source": [
        "Z = np.random.randint(0,4,25).reshape(5,5)\n",
        "print(Z)"
      ]
    },
    {
      "cell_type": "markdown",
      "id": "2d07be1c",
      "metadata": {
        "id": "2d07be1c"
      },
      "source": [
        "#### 32. Create a random vector of size 10 and sort it (★★☆)"
      ]
    },
    {
      "cell_type": "code",
      "execution_count": 44,
      "id": "4f7cb3ad",
      "metadata": {
        "colab": {
          "base_uri": "https://localhost:8080/"
        },
        "id": "4f7cb3ad",
        "outputId": "9652d595-a710-473a-a414-dfa28127723f"
      },
      "outputs": [
        {
          "name": "stdout",
          "output_type": "stream",
          "text": [
            "[8 2 7 6 2 2 5 1 8 9]\n",
            "[1 2 2 2 5 6 7 8 8 9]\n"
          ]
        }
      ],
      "source": [
        "a=np.random.randint(1,10,10)\n",
        "print(a)\n",
        "b=np.sort(a)\n",
        "print(b)"
      ]
    },
    {
      "cell_type": "markdown",
      "id": "fe043549",
      "metadata": {
        "id": "fe043549"
      },
      "source": [
        "#### 33. Consider two random array A and B, check if they are equal (★★☆)\n",
        "```python\n",
        "A = np.random.randint(0,2,5)\n",
        "B = np.random.randint(0,2,5)\n",
        "```\n",
        "Hint : Use `numpy.array_equal()`"
      ]
    },
    {
      "cell_type": "code",
      "execution_count": 45,
      "id": "3326a686",
      "metadata": {
        "colab": {
          "base_uri": "https://localhost:8080/"
        },
        "id": "3326a686",
        "outputId": "c0960cbd-5643-4ab4-db0d-f8e63878f051"
      },
      "outputs": [
        {
          "data": {
            "text/plain": [
              "False"
            ]
          },
          "execution_count": 45,
          "metadata": {},
          "output_type": "execute_result"
        }
      ],
      "source": [
        "A = np.random.randint(0,2,5)\n",
        "B = np.random.randint(0,2,5)\n",
        "np.array_equal(A,B)"
      ]
    },
    {
      "cell_type": "markdown",
      "id": "2002cb03",
      "metadata": {
        "id": "2002cb03"
      },
      "source": [
        "#### 34. Consider a random 10x2 matrix representing cartesian coordinates, convert them to polar coordinates (★★☆)\n",
        "Hint 1 : Note that cartesian coodinate **(x, y)** can be represented as  polar coordinates **(distance from origin to (x,y), angle from the x-axis)**\n",
        "\n",
        "Hint 2 : Use `numpy.sqrt` and `numpy.arctan2`"
      ]
    },
    {
      "cell_type": "code",
      "execution_count": 65,
      "id": "58be72bc",
      "metadata": {
        "colab": {
          "base_uri": "https://localhost:8080/"
        },
        "id": "58be72bc",
        "outputId": "f727a1fa-0c7a-4cf9-987f-42c7e4f207ca"
      },
      "outputs": [
        {
          "name": "stdout",
          "output_type": "stream",
          "text": [
            "[[0.1193748  0.44068576]\n",
            " [0.98634272 0.97921316]\n",
            " [0.94231299 0.88708653]\n",
            " [0.72228618 0.85806944]\n",
            " [0.14276136 0.27549284]\n",
            " [0.27566708 0.45828904]\n",
            " [0.10695109 0.57428393]\n",
            " [0.63231057 0.58873735]\n",
            " [0.52724151 0.1618516 ]\n",
            " [0.40617959 0.2438877 ]]\n",
            "[0.45656793 1.38986704 1.29417011 1.12159729 0.31028553 0.53480949\n",
            " 0.584158   0.86396084 0.55152475 0.47377534]\n",
            "[1.30626057 0.78177093 0.75521903 0.8711071  1.09269219 1.02926464\n",
            " 1.38667184 0.74972819 0.29784636 0.54074518]\n"
          ]
        },
        {
          "data": {
            "text/plain": [
              "array([[0.45656793, 1.30626057],\n",
              "       [1.38986704, 0.78177093],\n",
              "       [1.29417011, 0.75521903],\n",
              "       [1.12159729, 0.8711071 ],\n",
              "       [0.31028553, 1.09269219],\n",
              "       [0.53480949, 1.02926464],\n",
              "       [0.584158  , 1.38667184],\n",
              "       [0.86396084, 0.74972819],\n",
              "       [0.55152475, 0.29784636],\n",
              "       [0.47377534, 0.54074518]])"
            ]
          },
          "execution_count": 65,
          "metadata": {},
          "output_type": "execute_result"
        }
      ],
      "source": [
        "A=np.random.random((10,2))\n",
        "print(A)\n",
        "X,Y = A[:,0], A[:,1]\n",
        "R = np.sqrt(X**2+Y**2)\n",
        "T = np.arctan2(Y,X)\n",
        "print(R)\n",
        "print(T)\n",
        "array = np.array(R)\n",
        "R = array.reshape(10,1)\n",
        "array1 = np.array(T)\n",
        "T = array1.reshape(10,1)\n",
        "arr = np.concatenate([R, T], axis=1)\n",
        "arr"
      ]
    },
    {
      "cell_type": "markdown",
      "id": "b7109c9f",
      "metadata": {
        "id": "b7109c9f"
      },
      "source": [
        "#### 35. Create random vector Z of size 10 and replace the maximum value by 0 (★★☆)\n",
        "Hint : We can see the index of maximum value using `Z.argmax()`"
      ]
    },
    {
      "cell_type": "code",
      "execution_count": 6,
      "id": "f79e79a7",
      "metadata": {
        "colab": {
          "base_uri": "https://localhost:8080/"
        },
        "id": "f79e79a7",
        "outputId": "4ef13097-270b-4167-f811-9ae971253fd0"
      },
      "outputs": [
        {
          "name": "stdout",
          "output_type": "stream",
          "text": [
            "[0.7456277  0.38021717 0.41847383 0.51745612 0.44018711 0.86152198\n",
            " 0.64601715 0.40265248 0.79409331 0.06203655]\n",
            "0.8615219787291247\n",
            "0.7940933054408694\n"
          ]
        }
      ],
      "source": [
        "z = np.random.random(10)\n",
        "print(z)\n",
        "print(max(z))\n",
        "z[z.argmax()] = 0\n",
        "print(max(z))"
      ]
    },
    {
      "cell_type": "markdown",
      "id": "e6e1ae2f",
      "metadata": {
        "id": "e6e1ae2f"
      },
      "source": [
        "#### 36. How to find the closest value (to a given scalar v) in a vector Z? (★★☆)\n",
        "```python\n",
        "Z = np.arange(100)\n",
        "v = np.random.uniform(0,100)\n",
        "```\n",
        "Hint : Coumpute the distances between the each elements of Z and the scalar v. After that, we can see the index of minimum value using `argmin()`.  "
      ]
    },
    {
      "cell_type": "code",
      "execution_count": 75,
      "id": "QkQ2Mii77FrE",
      "metadata": {
        "colab": {
          "base_uri": "https://localhost:8080/"
        },
        "id": "QkQ2Mii77FrE",
        "outputId": "de5f8058-7e74-4a07-ed38-7e9cefa98eb9"
      },
      "outputs": [
        {
          "name": "stdout",
          "output_type": "stream",
          "text": [
            "78\n",
            "77.62374712761687\n"
          ]
        },
        {
          "data": {
            "text/plain": [
              "78"
            ]
          },
          "execution_count": 75,
          "metadata": {},
          "output_type": "execute_result"
        }
      ],
      "source": [
        "Z = np.arange(100)\n",
        "v = np.random.uniform(0,100)\n",
        "x=(Z-v)*(Z-v)\n",
        "x=sqrt(x)\n",
        "print(x.argmin())\n",
        "print(v)\n",
        "Z[x.argmin()]\n"
      ]
    },
    {
      "cell_type": "markdown",
      "id": "f98713a6",
      "metadata": {
        "id": "f98713a6"
      },
      "source": [
        "#### 37. What is the equivalent of enumerate for numpy arrays? (★★☆)\n",
        "Hint : Use `numpy.ndenumerate()`or `numpy.ndindex()`\n",
        "\n",
        "Example of the output :\n",
        "```python\n",
        "Z = np.arange(9).reshape(3,3)\n",
        "```\n",
        "```python\n",
        "# output\n",
        "(0, 0) 0\n",
        "(0, 1) 1\n",
        "(0, 2) 2\n",
        "(1, 0) 3\n",
        "(1, 1) 4\n",
        "(1, 2) 5\n",
        "(2, 0) 6\n",
        "(2, 1) 7\n",
        "(2, 2) 8\n",
        "```"
      ]
    },
    {
      "cell_type": "code",
      "execution_count": 81,
      "id": "64795f84",
      "metadata": {
        "colab": {
          "base_uri": "https://localhost:8080/"
        },
        "id": "64795f84",
        "outputId": "79d62437-6aca-4c2b-d921-8ec04269e34c"
      },
      "outputs": [
        {
          "name": "stdout",
          "output_type": "stream",
          "text": [
            "(0, 0) 0\n",
            "(0, 1) 1\n",
            "(0, 2) 2\n",
            "(1, 0) 3\n",
            "(1, 1) 4\n",
            "(1, 2) 5\n",
            "(2, 0) 6\n",
            "(2, 1) 7\n",
            "(2, 2) 8\n"
          ]
        }
      ],
      "source": [
        "a = np.arange(9).reshape(3,3)\n",
        "for index, x in np.ndenumerate(a):\n",
        "  print(index, x)"
      ]
    },
    {
      "cell_type": "markdown",
      "id": "0cf413ee",
      "metadata": {
        "id": "0cf413ee"
      },
      "source": [
        "#### 38. How to randomly place p elements in a 2D array? (★★☆)\n",
        "Hint : modify the code below\n",
        "```python\n",
        "n = 'size of a 2D array'\n",
        "p = 'the number of elements that you want to place'\n",
        "Z = np.zeros((n,n))\n",
        "np.put(Z, np.random.choice(range(n*n), p, replace = False),'value that you want to place')\n",
        "print(Z)\n",
        "```"
      ]
    },
    {
      "cell_type": "code",
      "execution_count": 91,
      "id": "dfc57e06",
      "metadata": {
        "colab": {
          "base_uri": "https://localhost:8080/"
        },
        "id": "dfc57e06",
        "outputId": "ca82f295-817c-4176-9b68-91270f2d8412"
      },
      "outputs": [
        {
          "name": "stdout",
          "output_type": "stream",
          "text": [
            "[[0. 4. 0.]\n",
            " [0. 0. 4.]\n",
            " [0. 0. 0.]]\n"
          ]
        }
      ],
      "source": [
        "n = 3\n",
        "p = 2\n",
        "Z = np.zeros((n,n))\n",
        "np.put(Z, np.random.choice(range(n*n), p, replace = False),4)\n",
        "print(Z)"
      ]
    },
    {
      "cell_type": "markdown",
      "id": "c0cf37e0",
      "metadata": {
        "id": "c0cf37e0"
      },
      "source": [
        "#### 39. How to sort an array below by the nth column? (★★☆)\n",
        "```python\n",
        "Z = np.random.randint(0,10,(3,3))\n",
        "```"
      ]
    },
    {
      "cell_type": "code",
      "execution_count": 108,
      "id": "9336ca5f",
      "metadata": {
        "colab": {
          "base_uri": "https://localhost:8080/"
        },
        "id": "9336ca5f",
        "outputId": "5a7eebf1-2c42-4c49-d109-b058887fe2d9"
      },
      "outputs": [
        {
          "name": "stdout",
          "output_type": "stream",
          "text": [
            "[[8 1 1]\n",
            " [1 8 3]\n",
            " [2 8 7]]\n",
            "[[1 8 3]\n",
            " [2 8 7]\n",
            " [8 1 1]]\n"
          ]
        }
      ],
      "source": [
        "# column 1\n",
        "Z = np.random.randint(0,10,(3,3))\n",
        "print(Z)\n",
        "print(Z[Z[:, 0].argsort()])"
      ]
    },
    {
      "cell_type": "code",
      "execution_count": 109,
      "id": "0hZzZ6tn2K6V",
      "metadata": {
        "colab": {
          "base_uri": "https://localhost:8080/"
        },
        "id": "0hZzZ6tn2K6V",
        "outputId": "ae246694-2b2a-46d1-80c0-d73645df3913"
      },
      "outputs": [
        {
          "name": "stdout",
          "output_type": "stream",
          "text": [
            "[[8 1 1]\n",
            " [1 8 3]\n",
            " [2 8 7]]\n",
            "[[8 1 1]\n",
            " [1 8 3]\n",
            " [2 8 7]]\n"
          ]
        }
      ],
      "source": [
        "# column 2\n",
        "print(Z)\n",
        "print(Z[Z[:, 1].argsort()])"
      ]
    },
    {
      "cell_type": "code",
      "execution_count": 110,
      "id": "z4zqQXvt2NaB",
      "metadata": {
        "colab": {
          "base_uri": "https://localhost:8080/"
        },
        "id": "z4zqQXvt2NaB",
        "outputId": "447c2f95-9d21-4bb1-9424-7d125e0fcb9f"
      },
      "outputs": [
        {
          "name": "stdout",
          "output_type": "stream",
          "text": [
            "[[8 1 1]\n",
            " [1 8 3]\n",
            " [2 8 7]]\n",
            "[[8 1 1]\n",
            " [1 8 3]\n",
            " [2 8 7]]\n"
          ]
        }
      ],
      "source": [
        "# column 3\n",
        "print(Z)\n",
        "print(Z[Z[:, 2].argsort()])"
      ]
    }
  ],
  "metadata": {
    "colab": {
      "collapsed_sections": [
        "51898680"
      ],
      "provenance": []
    },
    "kernelspec": {
      "display_name": "Python 3",
      "name": "python3"
    },
    "language_info": {
      "codemirror_mode": {
        "name": "ipython",
        "version": 3
      },
      "file_extension": ".py",
      "mimetype": "text/x-python",
      "name": "python",
      "nbconvert_exporter": "python",
      "pygments_lexer": "ipython3",
      "version": "3.10.4"
    }
  },
  "nbformat": 4,
  "nbformat_minor": 5
}
